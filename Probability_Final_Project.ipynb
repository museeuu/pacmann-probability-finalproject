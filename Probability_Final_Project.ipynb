{
  "nbformat": 4,
  "nbformat_minor": 0,
  "metadata": {
    "colab": {
      "provenance": []
    },
    "kernelspec": {
      "name": "python3",
      "display_name": "Python 3"
    },
    "language_info": {
      "name": "python"
    }
  },
  "cells": [
    {
      "cell_type": "code",
      "source": [
        "import pandas as pd\n",
        "import numpy as np\n",
        "import seaborn as sns\n",
        "import matplotlib.pyplot as plt\n",
        "from scipy.stats import ttest_ind"
      ],
      "metadata": {
        "id": "JmL49t4LrOrG"
      },
      "execution_count": null,
      "outputs": []
    },
    {
      "cell_type": "code",
      "execution_count": null,
      "metadata": {
        "id": "-FhH4ujwoS0S",
        "colab": {
          "base_uri": "https://localhost:8080/",
          "height": 423
        },
        "outputId": "8f02a24b-f072-434c-a1b3-bb53b1e9b750"
      },
      "outputs": [
        {
          "output_type": "execute_result",
          "data": {
            "text/plain": [
              "      age     sex     bmi  children smoker     region      charges\n",
              "0      19  female  27.900         0    yes  southwest  16884.92400\n",
              "1      18    male  33.770         1     no  southeast   1725.55230\n",
              "2      28    male  33.000         3     no  southeast   4449.46200\n",
              "3      33    male  22.705         0     no  northwest  21984.47061\n",
              "4      32    male  28.880         0     no  northwest   3866.85520\n",
              "...   ...     ...     ...       ...    ...        ...          ...\n",
              "1333   50    male  30.970         3     no  northwest  10600.54830\n",
              "1334   18  female  31.920         0     no  northeast   2205.98080\n",
              "1335   18  female  36.850         0     no  southeast   1629.83350\n",
              "1336   21  female  25.800         0     no  southwest   2007.94500\n",
              "1337   61  female  29.070         0    yes  northwest  29141.36030\n",
              "\n",
              "[1338 rows x 7 columns]"
            ],
            "text/html": [
              "\n",
              "  <div id=\"df-c1e65c3e-42fe-4c60-a798-c90e4ac6e546\" class=\"colab-df-container\">\n",
              "    <div>\n",
              "<style scoped>\n",
              "    .dataframe tbody tr th:only-of-type {\n",
              "        vertical-align: middle;\n",
              "    }\n",
              "\n",
              "    .dataframe tbody tr th {\n",
              "        vertical-align: top;\n",
              "    }\n",
              "\n",
              "    .dataframe thead th {\n",
              "        text-align: right;\n",
              "    }\n",
              "</style>\n",
              "<table border=\"1\" class=\"dataframe\">\n",
              "  <thead>\n",
              "    <tr style=\"text-align: right;\">\n",
              "      <th></th>\n",
              "      <th>age</th>\n",
              "      <th>sex</th>\n",
              "      <th>bmi</th>\n",
              "      <th>children</th>\n",
              "      <th>smoker</th>\n",
              "      <th>region</th>\n",
              "      <th>charges</th>\n",
              "    </tr>\n",
              "  </thead>\n",
              "  <tbody>\n",
              "    <tr>\n",
              "      <th>0</th>\n",
              "      <td>19</td>\n",
              "      <td>female</td>\n",
              "      <td>27.900</td>\n",
              "      <td>0</td>\n",
              "      <td>yes</td>\n",
              "      <td>southwest</td>\n",
              "      <td>16884.92400</td>\n",
              "    </tr>\n",
              "    <tr>\n",
              "      <th>1</th>\n",
              "      <td>18</td>\n",
              "      <td>male</td>\n",
              "      <td>33.770</td>\n",
              "      <td>1</td>\n",
              "      <td>no</td>\n",
              "      <td>southeast</td>\n",
              "      <td>1725.55230</td>\n",
              "    </tr>\n",
              "    <tr>\n",
              "      <th>2</th>\n",
              "      <td>28</td>\n",
              "      <td>male</td>\n",
              "      <td>33.000</td>\n",
              "      <td>3</td>\n",
              "      <td>no</td>\n",
              "      <td>southeast</td>\n",
              "      <td>4449.46200</td>\n",
              "    </tr>\n",
              "    <tr>\n",
              "      <th>3</th>\n",
              "      <td>33</td>\n",
              "      <td>male</td>\n",
              "      <td>22.705</td>\n",
              "      <td>0</td>\n",
              "      <td>no</td>\n",
              "      <td>northwest</td>\n",
              "      <td>21984.47061</td>\n",
              "    </tr>\n",
              "    <tr>\n",
              "      <th>4</th>\n",
              "      <td>32</td>\n",
              "      <td>male</td>\n",
              "      <td>28.880</td>\n",
              "      <td>0</td>\n",
              "      <td>no</td>\n",
              "      <td>northwest</td>\n",
              "      <td>3866.85520</td>\n",
              "    </tr>\n",
              "    <tr>\n",
              "      <th>...</th>\n",
              "      <td>...</td>\n",
              "      <td>...</td>\n",
              "      <td>...</td>\n",
              "      <td>...</td>\n",
              "      <td>...</td>\n",
              "      <td>...</td>\n",
              "      <td>...</td>\n",
              "    </tr>\n",
              "    <tr>\n",
              "      <th>1333</th>\n",
              "      <td>50</td>\n",
              "      <td>male</td>\n",
              "      <td>30.970</td>\n",
              "      <td>3</td>\n",
              "      <td>no</td>\n",
              "      <td>northwest</td>\n",
              "      <td>10600.54830</td>\n",
              "    </tr>\n",
              "    <tr>\n",
              "      <th>1334</th>\n",
              "      <td>18</td>\n",
              "      <td>female</td>\n",
              "      <td>31.920</td>\n",
              "      <td>0</td>\n",
              "      <td>no</td>\n",
              "      <td>northeast</td>\n",
              "      <td>2205.98080</td>\n",
              "    </tr>\n",
              "    <tr>\n",
              "      <th>1335</th>\n",
              "      <td>18</td>\n",
              "      <td>female</td>\n",
              "      <td>36.850</td>\n",
              "      <td>0</td>\n",
              "      <td>no</td>\n",
              "      <td>southeast</td>\n",
              "      <td>1629.83350</td>\n",
              "    </tr>\n",
              "    <tr>\n",
              "      <th>1336</th>\n",
              "      <td>21</td>\n",
              "      <td>female</td>\n",
              "      <td>25.800</td>\n",
              "      <td>0</td>\n",
              "      <td>no</td>\n",
              "      <td>southwest</td>\n",
              "      <td>2007.94500</td>\n",
              "    </tr>\n",
              "    <tr>\n",
              "      <th>1337</th>\n",
              "      <td>61</td>\n",
              "      <td>female</td>\n",
              "      <td>29.070</td>\n",
              "      <td>0</td>\n",
              "      <td>yes</td>\n",
              "      <td>northwest</td>\n",
              "      <td>29141.36030</td>\n",
              "    </tr>\n",
              "  </tbody>\n",
              "</table>\n",
              "<p>1338 rows × 7 columns</p>\n",
              "</div>\n",
              "    <div class=\"colab-df-buttons\">\n",
              "\n",
              "  <div class=\"colab-df-container\">\n",
              "    <button class=\"colab-df-convert\" onclick=\"convertToInteractive('df-c1e65c3e-42fe-4c60-a798-c90e4ac6e546')\"\n",
              "            title=\"Convert this dataframe to an interactive table.\"\n",
              "            style=\"display:none;\">\n",
              "\n",
              "  <svg xmlns=\"http://www.w3.org/2000/svg\" height=\"24px\" viewBox=\"0 -960 960 960\">\n",
              "    <path d=\"M120-120v-720h720v720H120Zm60-500h600v-160H180v160Zm220 220h160v-160H400v160Zm0 220h160v-160H400v160ZM180-400h160v-160H180v160Zm440 0h160v-160H620v160ZM180-180h160v-160H180v160Zm440 0h160v-160H620v160Z\"/>\n",
              "  </svg>\n",
              "    </button>\n",
              "\n",
              "  <style>\n",
              "    .colab-df-container {\n",
              "      display:flex;\n",
              "      gap: 12px;\n",
              "    }\n",
              "\n",
              "    .colab-df-convert {\n",
              "      background-color: #E8F0FE;\n",
              "      border: none;\n",
              "      border-radius: 50%;\n",
              "      cursor: pointer;\n",
              "      display: none;\n",
              "      fill: #1967D2;\n",
              "      height: 32px;\n",
              "      padding: 0 0 0 0;\n",
              "      width: 32px;\n",
              "    }\n",
              "\n",
              "    .colab-df-convert:hover {\n",
              "      background-color: #E2EBFA;\n",
              "      box-shadow: 0px 1px 2px rgba(60, 64, 67, 0.3), 0px 1px 3px 1px rgba(60, 64, 67, 0.15);\n",
              "      fill: #174EA6;\n",
              "    }\n",
              "\n",
              "    .colab-df-buttons div {\n",
              "      margin-bottom: 4px;\n",
              "    }\n",
              "\n",
              "    [theme=dark] .colab-df-convert {\n",
              "      background-color: #3B4455;\n",
              "      fill: #D2E3FC;\n",
              "    }\n",
              "\n",
              "    [theme=dark] .colab-df-convert:hover {\n",
              "      background-color: #434B5C;\n",
              "      box-shadow: 0px 1px 3px 1px rgba(0, 0, 0, 0.15);\n",
              "      filter: drop-shadow(0px 1px 2px rgba(0, 0, 0, 0.3));\n",
              "      fill: #FFFFFF;\n",
              "    }\n",
              "  </style>\n",
              "\n",
              "    <script>\n",
              "      const buttonEl =\n",
              "        document.querySelector('#df-c1e65c3e-42fe-4c60-a798-c90e4ac6e546 button.colab-df-convert');\n",
              "      buttonEl.style.display =\n",
              "        google.colab.kernel.accessAllowed ? 'block' : 'none';\n",
              "\n",
              "      async function convertToInteractive(key) {\n",
              "        const element = document.querySelector('#df-c1e65c3e-42fe-4c60-a798-c90e4ac6e546');\n",
              "        const dataTable =\n",
              "          await google.colab.kernel.invokeFunction('convertToInteractive',\n",
              "                                                    [key], {});\n",
              "        if (!dataTable) return;\n",
              "\n",
              "        const docLinkHtml = 'Like what you see? Visit the ' +\n",
              "          '<a target=\"_blank\" href=https://colab.research.google.com/notebooks/data_table.ipynb>data table notebook</a>'\n",
              "          + ' to learn more about interactive tables.';\n",
              "        element.innerHTML = '';\n",
              "        dataTable['output_type'] = 'display_data';\n",
              "        await google.colab.output.renderOutput(dataTable, element);\n",
              "        const docLink = document.createElement('div');\n",
              "        docLink.innerHTML = docLinkHtml;\n",
              "        element.appendChild(docLink);\n",
              "      }\n",
              "    </script>\n",
              "  </div>\n",
              "\n",
              "\n",
              "<div id=\"df-fc17f47c-3202-4687-ae0c-48b3ab6d2853\">\n",
              "  <button class=\"colab-df-quickchart\" onclick=\"quickchart('df-fc17f47c-3202-4687-ae0c-48b3ab6d2853')\"\n",
              "            title=\"Suggest charts.\"\n",
              "            style=\"display:none;\">\n",
              "\n",
              "<svg xmlns=\"http://www.w3.org/2000/svg\" height=\"24px\"viewBox=\"0 0 24 24\"\n",
              "     width=\"24px\">\n",
              "    <g>\n",
              "        <path d=\"M19 3H5c-1.1 0-2 .9-2 2v14c0 1.1.9 2 2 2h14c1.1 0 2-.9 2-2V5c0-1.1-.9-2-2-2zM9 17H7v-7h2v7zm4 0h-2V7h2v10zm4 0h-2v-4h2v4z\"/>\n",
              "    </g>\n",
              "</svg>\n",
              "  </button>\n",
              "\n",
              "<style>\n",
              "  .colab-df-quickchart {\n",
              "      --bg-color: #E8F0FE;\n",
              "      --fill-color: #1967D2;\n",
              "      --hover-bg-color: #E2EBFA;\n",
              "      --hover-fill-color: #174EA6;\n",
              "      --disabled-fill-color: #AAA;\n",
              "      --disabled-bg-color: #DDD;\n",
              "  }\n",
              "\n",
              "  [theme=dark] .colab-df-quickchart {\n",
              "      --bg-color: #3B4455;\n",
              "      --fill-color: #D2E3FC;\n",
              "      --hover-bg-color: #434B5C;\n",
              "      --hover-fill-color: #FFFFFF;\n",
              "      --disabled-bg-color: #3B4455;\n",
              "      --disabled-fill-color: #666;\n",
              "  }\n",
              "\n",
              "  .colab-df-quickchart {\n",
              "    background-color: var(--bg-color);\n",
              "    border: none;\n",
              "    border-radius: 50%;\n",
              "    cursor: pointer;\n",
              "    display: none;\n",
              "    fill: var(--fill-color);\n",
              "    height: 32px;\n",
              "    padding: 0;\n",
              "    width: 32px;\n",
              "  }\n",
              "\n",
              "  .colab-df-quickchart:hover {\n",
              "    background-color: var(--hover-bg-color);\n",
              "    box-shadow: 0 1px 2px rgba(60, 64, 67, 0.3), 0 1px 3px 1px rgba(60, 64, 67, 0.15);\n",
              "    fill: var(--button-hover-fill-color);\n",
              "  }\n",
              "\n",
              "  .colab-df-quickchart-complete:disabled,\n",
              "  .colab-df-quickchart-complete:disabled:hover {\n",
              "    background-color: var(--disabled-bg-color);\n",
              "    fill: var(--disabled-fill-color);\n",
              "    box-shadow: none;\n",
              "  }\n",
              "\n",
              "  .colab-df-spinner {\n",
              "    border: 2px solid var(--fill-color);\n",
              "    border-color: transparent;\n",
              "    border-bottom-color: var(--fill-color);\n",
              "    animation:\n",
              "      spin 1s steps(1) infinite;\n",
              "  }\n",
              "\n",
              "  @keyframes spin {\n",
              "    0% {\n",
              "      border-color: transparent;\n",
              "      border-bottom-color: var(--fill-color);\n",
              "      border-left-color: var(--fill-color);\n",
              "    }\n",
              "    20% {\n",
              "      border-color: transparent;\n",
              "      border-left-color: var(--fill-color);\n",
              "      border-top-color: var(--fill-color);\n",
              "    }\n",
              "    30% {\n",
              "      border-color: transparent;\n",
              "      border-left-color: var(--fill-color);\n",
              "      border-top-color: var(--fill-color);\n",
              "      border-right-color: var(--fill-color);\n",
              "    }\n",
              "    40% {\n",
              "      border-color: transparent;\n",
              "      border-right-color: var(--fill-color);\n",
              "      border-top-color: var(--fill-color);\n",
              "    }\n",
              "    60% {\n",
              "      border-color: transparent;\n",
              "      border-right-color: var(--fill-color);\n",
              "    }\n",
              "    80% {\n",
              "      border-color: transparent;\n",
              "      border-right-color: var(--fill-color);\n",
              "      border-bottom-color: var(--fill-color);\n",
              "    }\n",
              "    90% {\n",
              "      border-color: transparent;\n",
              "      border-bottom-color: var(--fill-color);\n",
              "    }\n",
              "  }\n",
              "</style>\n",
              "\n",
              "  <script>\n",
              "    async function quickchart(key) {\n",
              "      const quickchartButtonEl =\n",
              "        document.querySelector('#' + key + ' button');\n",
              "      quickchartButtonEl.disabled = true;  // To prevent multiple clicks.\n",
              "      quickchartButtonEl.classList.add('colab-df-spinner');\n",
              "      try {\n",
              "        const charts = await google.colab.kernel.invokeFunction(\n",
              "            'suggestCharts', [key], {});\n",
              "      } catch (error) {\n",
              "        console.error('Error during call to suggestCharts:', error);\n",
              "      }\n",
              "      quickchartButtonEl.classList.remove('colab-df-spinner');\n",
              "      quickchartButtonEl.classList.add('colab-df-quickchart-complete');\n",
              "    }\n",
              "    (() => {\n",
              "      let quickchartButtonEl =\n",
              "        document.querySelector('#df-fc17f47c-3202-4687-ae0c-48b3ab6d2853 button');\n",
              "      quickchartButtonEl.style.display =\n",
              "        google.colab.kernel.accessAllowed ? 'block' : 'none';\n",
              "    })();\n",
              "  </script>\n",
              "</div>\n",
              "    </div>\n",
              "  </div>\n"
            ]
          },
          "metadata": {},
          "execution_count": 2
        }
      ],
      "source": [
        "data = pd.read_csv('/content/drive/MyDrive/Content/insurance.csv')\n",
        "data"
      ]
    },
    {
      "cell_type": "code",
      "source": [
        "data.count()"
      ],
      "metadata": {
        "colab": {
          "base_uri": "https://localhost:8080/"
        },
        "id": "mhoVx2v6rNs-",
        "outputId": "315c3e9d-b235-4d33-f155-56a21ee6154e"
      },
      "execution_count": null,
      "outputs": [
        {
          "output_type": "execute_result",
          "data": {
            "text/plain": [
              "age         1338\n",
              "sex         1338\n",
              "bmi         1338\n",
              "children    1338\n",
              "smoker      1338\n",
              "region      1338\n",
              "charges     1338\n",
              "dtype: int64"
            ]
          },
          "metadata": {},
          "execution_count": 11
        }
      ]
    },
    {
      "cell_type": "markdown",
      "source": [
        "### Analisa Descriptive Statistic\n",
        "1. Berapa rata rata umur pada data tersebut?\n",
        "2. Berapa rata rata nilai BMI dari yang merokok?\n",
        "3. Apakah variansi dari tagihan kesehatan perokok dan non perokok sama?\n",
        "4. Apakah rata rata umur perempuan dan laki-laki yang merokok sama?\n",
        "5. Mana yang lebih tinggi, rata rata tagihan kesehatan perokok atau non merokok?\n",
        "6. Mana yang lebih tinggi, rata rata tagihan kesehatan perokok yang BMI nya diatas 25\n",
        "atau non perokok yang BMI nya diatas 25 (overweight)\n",
        "7. BMI mana yang lebih tinggi, seseorang perokok atau non perokok?\n"
      ],
      "metadata": {
        "id": "k-Ju7sPjr85Y"
      }
    },
    {
      "cell_type": "markdown",
      "source": [
        "1. Berapa rata rata umur pada data tersebut?"
      ],
      "metadata": {
        "id": "_R86s5qxyv8E"
      }
    },
    {
      "cell_type": "code",
      "source": [
        "mean_age = data['age'].mean().round(3)\n",
        "mean_male_age = data[data['sex'] == 'male']['age'].mean().round(3)\n",
        "mean_female_age = data[data['sex'] == 'female']['age'].mean().round(3)\n",
        "\n",
        "print('Rata - rata umur:', mean_age)\n",
        "print(mean_male_age)\n",
        "print(mean_female_age)"
      ],
      "metadata": {
        "colab": {
          "base_uri": "https://localhost:8080/"
        },
        "id": "SogiNwKcwjzt",
        "outputId": "3a1aa25d-b8bf-416d-cf0e-4fab48d27c2a"
      },
      "execution_count": null,
      "outputs": [
        {
          "output_type": "stream",
          "name": "stdout",
          "text": [
            "Rata - rata umur: 39.207\n",
            "38.917\n",
            "39.503\n"
          ]
        }
      ]
    },
    {
      "cell_type": "markdown",
      "source": [
        "2. Berapa rata rata nilai BMI dari yang merokok?"
      ],
      "metadata": {
        "id": "rU4wFXBVtiPi"
      }
    },
    {
      "cell_type": "code",
      "source": [
        "# Menghitung rerata BMI untuk perokok\n",
        "mean_smoker_bmi = data[data['smoker'] == 'yes']['bmi'].mean().round(3)\n",
        "\n",
        "# Menghitung rerata BMI untuk non perokok\n",
        "mean_nonsmoker_bmi = data[data['smoker'] == 'no']['bmi'].mean().round(3)\n",
        "\n",
        "# Mencetak\n",
        "print(\"Rata-rata BMI Perokok:\", mean_smoker_bmi)\n",
        "print(\"Rata-rata BMI Bukan Perokok:\", mean_nonsmoker_bmi)\n"
      ],
      "metadata": {
        "colab": {
          "base_uri": "https://localhost:8080/"
        },
        "id": "Y0iMbvO3thsy",
        "outputId": "0bf7e52e-b89a-4a69-ea02-c4a200a15ea4"
      },
      "execution_count": null,
      "outputs": [
        {
          "output_type": "stream",
          "name": "stdout",
          "text": [
            "Rata-rata BMI Perokok: 30.708\n",
            "Rata-rata BMI Bukan Perokok: 30.652\n"
          ]
        }
      ]
    },
    {
      "cell_type": "markdown",
      "source": [
        "Apakah variansi dari tagihan kesehatan perokok dan non perokok sama?"
      ],
      "metadata": {
        "id": "7I2MS9jGubhy"
      }
    },
    {
      "cell_type": "code",
      "source": [
        "variance_smoker = data[data['smoker'] == 'yes']['charges'].var().round(3)\n",
        "variance_nonsmoker = data[data['smoker'] == 'no']['charges'].var().round(3)\n",
        "\n",
        "print(\"Variansi Tagihan Kesehatan Perokok:\", variance_smoker)\n",
        "print(\"Variansi Tagihan Kesehatan Non Perokok:\", variance_nonsmoker)\n",
        "\n",
        "if variance_smoker == variance_nonsmoker:\n",
        "  print(\"variansi dari tagihan kesehatan perokok dan non perokok sama\")\n",
        "else:\n",
        "  print(\"variansi dari tagihan kesehatan perokok dan non perokok berbeda\")"
      ],
      "metadata": {
        "colab": {
          "base_uri": "https://localhost:8080/"
        },
        "id": "edCsFkffuXhY",
        "outputId": "d066ea01-90f6-4568-f98a-1941c15567bf"
      },
      "execution_count": null,
      "outputs": [
        {
          "output_type": "stream",
          "name": "stdout",
          "text": [
            "Variansi Tagihan Kesehatan Perokok: 133207311.206\n",
            "Variansi Tagihan Kesehatan Non Perokok: 35925420.496\n",
            "variansi dari tagihan kesehatan perokok dan non perokok berbeda\n"
          ]
        }
      ]
    },
    {
      "cell_type": "markdown",
      "source": [
        "Mana yang lebih tinggi, rata rata tagihan kesehatan perokok atau non merokok?"
      ],
      "metadata": {
        "id": "ikrBWWoXvA50"
      }
    },
    {
      "cell_type": "code",
      "source": [
        "# Menghitung rata-rata tagihan kesehatan perokok\n",
        "mean_charges_smoker = data[data['smoker'] == 'yes']['charges'].mean().round(3)\n",
        "\n",
        "# Menghitung rata-rata tagihan kesehatan non perokok\n",
        "mean_charges_nonsmoker = data[data['smoker'] == 'no']['charges'].mean().round(3)\n",
        "\n",
        "# Tampilkan hasil\n",
        "print(\"Rata-rata Tagihan Kesehatan Perokok:\", mean_charges_smoker)\n",
        "print(\"Rata-rata Tagihan Kesehatan Non Perokok:\", mean_charges_nonsmoker)"
      ],
      "metadata": {
        "colab": {
          "base_uri": "https://localhost:8080/"
        },
        "id": "d1G_F46ZvBeK",
        "outputId": "31651aa7-fb4b-47d5-a54a-0888f299d627"
      },
      "execution_count": null,
      "outputs": [
        {
          "output_type": "stream",
          "name": "stdout",
          "text": [
            "Rata-rata Tagihan Kesehatan Perokok: 32050.232\n",
            "Rata-rata Tagihan Kesehatan Non Perokok: 8434.268\n"
          ]
        }
      ]
    },
    {
      "cell_type": "markdown",
      "source": [
        "Mana yang lebih tinggi, rata rata tagihan kesehatan perokok atau non merokok?"
      ],
      "metadata": {
        "id": "My4t2YooxKJF"
      }
    },
    {
      "cell_type": "code",
      "source": [
        "mean_smoker_bmi_above = data[(data['smoker'] == 'yes') & (data['bmi'] > 25)]['charges'].mean().round(3)\n",
        "\n",
        "# Hitung rata-rata tagihan kesehatan non perokok dengan BMI di atas 25\n",
        "mean_nonsmoker_bmi_above = data[(data['smoker'] == 'no') & (data['bmi'] > 25)]['charges'].mean().round(3)\n",
        "\n",
        "# Tampilkan hasil\n",
        "print(\"Rata-rata Tagihan Kesehatan Perokok (BMI > 25):\", mean_smoker_bmi_above)\n",
        "print(\"Rata-rata Tagihan Kesehatan Non Perokok (BMI > 25):\", mean_nonsmoker_bmi_above)"
      ],
      "metadata": {
        "colab": {
          "base_uri": "https://localhost:8080/"
        },
        "id": "y836yySLxKsQ",
        "outputId": "0e4e4bd9-e15a-423c-8eeb-4aa5755b6fe3"
      },
      "execution_count": null,
      "outputs": [
        {
          "output_type": "stream",
          "name": "stdout",
          "text": [
            "Rata-rata Tagihan Kesehatan Perokok (BMI > 25): 35116.91\n",
            "Rata-rata Tagihan Kesehatan Non Perokok (BMI > 25): 8629.59\n"
          ]
        }
      ]
    },
    {
      "cell_type": "markdown",
      "source": [
        "### Analisa Variabel Diskrit\n",
        "\n",
        "1. Gender mana yang memiliki tagihan paling tinggi?\n",
        "2. Distribusi peluang tagihan di tiap-tiap region\n",
        "3. Apakah setiap region memiliki proporsi data banyak orang yang sama?\n",
        "4. Mana yang lebih tinggi proporsi perokok atau non perokok?\n",
        "5. Berapa peluang seseorang tersebut adalah perempuan diketahui dia adalah perokok?\n",
        "6. Berapa peluang seseorang tersebut adalah laki-laki diketahui dia adalah perokok?\n",
        "7. Bagaimana bentuk distribusi peluang besar tagihan dari tiap-tiap region?\n",
        "\n"
      ],
      "metadata": {
        "id": "wlY8ScVB0DLH"
      }
    },
    {
      "cell_type": "markdown",
      "source": [],
      "metadata": {
        "id": "5Cpk-b1l0PFC"
      }
    },
    {
      "cell_type": "code",
      "source": [
        "gender_mean_charges = data.groupby('sex')['charges'].mean().round(3)\n",
        "print(gender_mean_charges)"
      ],
      "metadata": {
        "colab": {
          "base_uri": "https://localhost:8080/"
        },
        "id": "dLZPuFC91AbK",
        "outputId": "c4a87da8-b06d-40c6-9009-8756526a6d44"
      },
      "execution_count": null,
      "outputs": [
        {
          "output_type": "stream",
          "name": "stdout",
          "text": [
            "sex\n",
            "female    12569.579\n",
            "male      13956.751\n",
            "Name: charges, dtype: float64\n"
          ]
        }
      ]
    },
    {
      "cell_type": "markdown",
      "source": [],
      "metadata": {
        "id": "IM1T_4eNLy38"
      }
    },
    {
      "cell_type": "code",
      "source": [
        "gender_highest_charges = gender_mean_charges.idxmax()\n",
        "find_highest_charges = data.groupby('sex')['charges'].max().round(3)\n",
        "\n",
        "print(\"Gender dengan Tagihan Tertinggi:\", gender_highest_charges)\n",
        "print(\"Tagihan Tertinggi:\\n\",find_highest_charges)"
      ],
      "metadata": {
        "colab": {
          "base_uri": "https://localhost:8080/"
        },
        "id": "mPVFFPdNL0JB",
        "outputId": "f08ef0e0-5cad-43d0-b22b-e4924d24c398"
      },
      "execution_count": null,
      "outputs": [
        {
          "output_type": "stream",
          "name": "stdout",
          "text": [
            "Gender dengan Tagihan Tertinggi: male\n",
            "Tagihan Tertinggi:\n",
            " sex\n",
            "female    63770.428\n",
            "male      62592.873\n",
            "Name: charges, dtype: float64\n"
          ]
        }
      ]
    },
    {
      "cell_type": "markdown",
      "source": [],
      "metadata": {
        "id": "bkV_KHCANC-N"
      }
    },
    {
      "cell_type": "code",
      "source": [
        "# Menghitung total jumlah perokok\n",
        "proporsion = data['region'].value_counts(normalize=True)\n",
        "proporsion\n"
      ],
      "metadata": {
        "colab": {
          "base_uri": "https://localhost:8080/"
        },
        "id": "JCwlzOhIOf6t",
        "outputId": "7a437835-bab4-45b1-cc92-e6028078730f"
      },
      "execution_count": null,
      "outputs": [
        {
          "output_type": "execute_result",
          "data": {
            "text/plain": [
              "southeast    0.272048\n",
              "southwest    0.242900\n",
              "northwest    0.242900\n",
              "northeast    0.242152\n",
              "Name: region, dtype: float64"
            ]
          },
          "metadata": {},
          "execution_count": 10
        }
      ]
    },
    {
      "cell_type": "markdown",
      "source": [],
      "metadata": {
        "id": "_A3Vj8FB42bt"
      }
    },
    {
      "cell_type": "code",
      "source": [
        "count_region = data.groupby('region').size()\n",
        "count_region"
      ],
      "metadata": {
        "colab": {
          "base_uri": "https://localhost:8080/"
        },
        "id": "SpPQRb6y4u3r",
        "outputId": "555d4ef9-8a74-4ae7-e82f-3bd8e2bc9ffd"
      },
      "execution_count": null,
      "outputs": [
        {
          "output_type": "execute_result",
          "data": {
            "text/plain": [
              "region\n",
              "northeast    324\n",
              "northwest    325\n",
              "southeast    364\n",
              "southwest    325\n",
              "dtype: int64"
            ]
          },
          "metadata": {},
          "execution_count": 11
        }
      ]
    },
    {
      "cell_type": "markdown",
      "source": [],
      "metadata": {
        "id": "7mMhnCBiOgao"
      }
    },
    {
      "cell_type": "code",
      "source": [
        "#Menghitung proporsi perokok dan non perokok\n",
        "smoker_proporsion = (data['smoker'] == 'yes').mean().round(3)\n",
        "nonsmoker_proporsion = (data['smoker'] == 'no').mean().round(3)\n",
        "\n",
        "print(\"Proporsi Perokok:\", smoker_proporsion)\n",
        "print(\"Proporsi Non Perokok:\", nonsmoker_proporsion)"
      ],
      "metadata": {
        "colab": {
          "base_uri": "https://localhost:8080/"
        },
        "id": "ipTUENbNNDmy",
        "outputId": "748a9105-cc48-4474-bc3d-ad1095e4d8a4"
      },
      "execution_count": null,
      "outputs": [
        {
          "output_type": "stream",
          "name": "stdout",
          "text": [
            "Proporsi Perokok: 0.205\n",
            "Proporsi Non Perokok: 0.795\n"
          ]
        }
      ]
    },
    {
      "cell_type": "markdown",
      "source": [],
      "metadata": {
        "id": "zzS7dTc4NcGj"
      }
    },
    {
      "cell_type": "code",
      "source": [
        "# Menghitung jumlah perokok perempuan\n",
        "total_female_smoker = data[data.smoker == 'yes'].groupby('sex').size()['female']\n",
        "\n",
        "# Menghitung total jumlah perokok\n",
        "total_smoker = data[data.smoker == 'yes'].groupby('sex').size().sum()\n",
        "\n",
        "# Menghitung peluang perempuan jika diketahui perokok\n",
        "female_given_smoker_chance = round((total_female_smoker / total_smoker),3)\n",
        "\n",
        "print(\"Peluang Female | Smoker:\", female_given_smoker_chance)"
      ],
      "metadata": {
        "colab": {
          "base_uri": "https://localhost:8080/"
        },
        "id": "bXZ0y_szNcol",
        "outputId": "607254dd-aa9b-44e4-c204-09ad3ab13c13"
      },
      "execution_count": null,
      "outputs": [
        {
          "output_type": "stream",
          "name": "stdout",
          "text": [
            "Peluang Female | Smoker: 0.42\n"
          ]
        }
      ]
    },
    {
      "cell_type": "markdown",
      "source": [
        "### Analisa Variabel Kontinu\n",
        "1. Mana yang lebih mungkin terjadi\n",
        "> a. Seseorang dengan BMI diatas 25 mendapatkan tagihan kesehatan diatas 16.7k, atau\n",
        ">\n",
        "> b. Seseorang dengan BMI dibawah 25 mendapatkan tagihan kesehatan diatas 16.7k\n",
        "\n",
        "2. Mana yang lebih mungkin terjadi:\n",
        "> a. Seseorang perokok dengan BMI diatas 25 mendapatkan tagihan kesehatan diatas 16.7k, atau\n",
        ">\n",
        ">b. Seseorang non perokok dengan BMI diatas 25 mendapatkan tagihan kesehatan diatas 16.7k\n",
        "\n",
        "\n"
      ],
      "metadata": {
        "id": "ypPGSCUwdNkO"
      }
    },
    {
      "cell_type": "code",
      "source": [
        "# Hitung proporsi data dengan BMI di atas 25 dan tagihan kesehatan di atas 16.7k\n",
        "proporsion_a = ((data['bmi'] > 25) & (data['charges'] > 16700)).sum() / len(data)\n",
        "\n",
        "# Hitung proporsi data dengan BMI di bawah 25 dan tagihan kesehatan di atas 16.7k\n",
        "proporsion_b = ((data['bmi'] < 25) & (data['charges'] > 16700)).sum() / len(data)\n",
        "\n",
        "print('Proporsi kasus 1a:', proporsion_a)\n",
        "print('Proporsi kasus 1b:', proporsion_b)\n",
        "\n",
        "if proporsion_a > proporsion_b:\n",
        "  print('Case A lebih mungkin terjadi daripada Case B')\n",
        "else:\n",
        "  print('Case B lebih mungkin terjadi daripada Case A')"
      ],
      "metadata": {
        "colab": {
          "base_uri": "https://localhost:8080/"
        },
        "id": "uuqgp65teEtN",
        "outputId": "e9c0bce4-5524-4f5f-8210-010d95ca0892"
      },
      "execution_count": null,
      "outputs": [
        {
          "output_type": "stream",
          "name": "stdout",
          "text": [
            "Proporsi kasus 1a: 1.0\n",
            "Proporsi kasus 1b: 1.0\n",
            "Case B lebih mungkin terjadi daripada Case A\n"
          ]
        }
      ]
    },
    {
      "cell_type": "code",
      "source": [
        "# Cek kondisi a\n",
        "a = len(data[(data['smoker'] == 'yes') & (data['bmi'] > 25) & (data['charges'] > 16700)])\n",
        "\n",
        "# Cek kondisi b\n",
        "b = len(data[(data['smoker'] == 'no') & (data['bmi'] > 25) & (data['charges'] > 16700)])\n",
        "\n",
        "# Hitung proporsi kasus a\n",
        "proporsion_a = a / len(data)\n",
        "\n",
        "# Hitung Proporsi kasus b\n",
        "proporsion_b = b / len(data)\n",
        "\n",
        "print(\"Proporsi kasus 2a:\", proporsion_a)\n",
        "print(\"Proporsi kasus 2b:\", proporsion_b)\n",
        "if proporsion_a > proporsion_b:\n",
        "  print('Case A lebih mungkin terjadi daripada Case B')\n",
        "else:\n",
        "  print('Case B lebih mungkin terjadi daripada Case A')"
      ],
      "metadata": {
        "colab": {
          "base_uri": "https://localhost:8080/"
        },
        "id": "FBpSUt5UfEzk",
        "outputId": "bf223805-2921-4e1e-c05e-8cf9fcd86dfa"
      },
      "execution_count": null,
      "outputs": [
        {
          "output_type": "stream",
          "name": "stdout",
          "text": [
            "Proporsi kasus 2a: 0.16068759342301944\n",
            "Proporsi kasus 2b: 0.05082212257100149\n",
            "Case A lebih mungkin terjadi daripada Case B\n"
          ]
        }
      ]
    },
    {
      "cell_type": "markdown",
      "source": [
        "### Analisa Korelasi Variabel"
      ],
      "metadata": {
        "id": "kzslq3JpgnZy"
      }
    },
    {
      "cell_type": "code",
      "source": [
        "# Melihat korelasi variabel antar kolom\n",
        "corr = data.corr()\n",
        "\n",
        "# Mencetak hasil korelasi\n",
        "print(corr)\n",
        "\n",
        "# Menampilkan heatmap\n",
        "sns.heatmap(corr, annot=True, cmap='Oranges')\n",
        "plt.show()"
      ],
      "metadata": {
        "colab": {
          "base_uri": "https://localhost:8080/",
          "height": 582
        },
        "id": "70BM5rOohAef",
        "outputId": "4434b11d-7bec-43e9-a57d-5504e0a9d096"
      },
      "execution_count": null,
      "outputs": [
        {
          "output_type": "stream",
          "name": "stderr",
          "text": [
            "<ipython-input-11-84254d53b505>:2: FutureWarning: The default value of numeric_only in DataFrame.corr is deprecated. In a future version, it will default to False. Select only valid columns or specify the value of numeric_only to silence this warning.\n",
            "  corr = data.corr()\n"
          ]
        },
        {
          "output_type": "stream",
          "name": "stdout",
          "text": [
            "               age       bmi  children   charges\n",
            "age       1.000000  0.109272  0.042469  0.299008\n",
            "bmi       0.109272  1.000000  0.012759  0.198341\n",
            "children  0.042469  0.012759  1.000000  0.067998\n",
            "charges   0.299008  0.198341  0.067998  1.000000\n"
          ]
        },
        {
          "output_type": "display_data",
          "data": {
            "text/plain": [
              "<Figure size 640x480 with 2 Axes>"
            ],
            "image/png": "[encoded data removed]"
          },
          "metadata": {}
        }
      ]
    },
    {
      "cell_type": "markdown",
      "source": [
        "### Pengujian Hipotesis\n",
        "\n",
        "\n",
        "1.   Tagihan kesehatan perokok lebih tinggi daripada tagihan kesehatan non perokok\n",
        "2.   Tagihan kesehatan dengan BMI diatas 25 lebih tinggi daripada tagihan kesehatan dengan BMI dibawah 25\n",
        "3. Tagihan kesehatan laki-laki lebih besar dari perempuan"
      ],
      "metadata": {
        "id": "2z_TKRL1hsOh"
      }
    },
    {
      "cell_type": "code",
      "source": [
        "# 1. Tagihan kesehatan perokok lebih tinggi daripada tagihan kesehatan non perokok\n",
        "\n",
        "# Hitung menggunakan Uji t-test\n",
        "smoker_charge = data[data['smoker'] == 'yes']['charges']\n",
        "nonsmoker_charge = data[data['smoker'] == 'no']['charges']\n",
        "t_statistic, p_value = ttest_ind(smoker_charge, nonsmoker_charge)\n",
        "\n",
        "# Tampilkan hasil uji t-test\n",
        "print(\"T-Statistic:\", t_statistic)\n",
        "print(\"P-Value:\", p_value)\n",
        "\n",
        "if p_value < 0.05:\n",
        "    print('Hipotesis nol diterima | hipotesis satu ditolak. Tagihan kesehatan perokok lebih tinggi daripada tagihan kesehatan non perokok')\n",
        "else:\n",
        "    print('Hipotesis nol ditolak | hipotesis satu diterima. Tagihan kesehatan perokok kurang dari atau sama dengan tagihan kesehatan non perokok')"
      ],
      "metadata": {
        "colab": {
          "base_uri": "https://localhost:8080/"
        },
        "id": "GhlQCehPh_yt",
        "outputId": "81e1bcb9-a056-4a14-d1d8-2dca7e54c19c"
      },
      "execution_count": null,
      "outputs": [
        {
          "output_type": "stream",
          "name": "stdout",
          "text": [
            "T-Statistic: 46.66492117272371\n",
            "P-Value: 8.271435842179102e-283\n",
            "Hipotesis nol ditolak | hipotesis satu diterima. Tagihan kesehatan perokok kurang dari atau sama dengan tagihan kesehatan non perokok\n"
          ]
        }
      ]
    },
    {
      "cell_type": "code",
      "source": [
        "# 2. Tagihan kesehatan dengan BMI diatas 25 lebih tinggi daripada tagihan kesehatan dengan BMI dibawah 25\n",
        "\n",
        "# Hitung menggunakan uji T-test\n",
        "above_bmi_charges = data[data['bmi'] > 25]['charges']\n",
        "below_bmi_charges = data[data['bmi'] <= 25]['charges']\n",
        "t_statistic, p_value = ttest_ind(above_bmi_charges, below_bmi_charges)\n",
        "\n",
        "# Tampilkan hasil uji t-test\n",
        "print(\"T-Statistic:\", t_statistic)\n",
        "print(\"P-Value:\", p_value)\n",
        "\n",
        "if p_value < 0.05:\n",
        "    print('Hipotesis nol diterima | hipotesis satu ditolak, Tagihan kesehatan dengan BMI diatas 25 kurang dari atau sama dengan tagihan kesehatan dengan BMI dibawah 25')\n",
        "else:\n",
        "    print('Hipotesis nol ditolak | hipotesis satu diterima, Tagihan kesehatan dengan BMI diatas 25 lebih tinggi daripada tagihan kesehatan dengan BMI dibawah 25')\n",
        "\n"
      ],
      "metadata": {
        "colab": {
          "base_uri": "https://localhost:8080/"
        },
        "id": "4qcao9AAnSlC",
        "outputId": "9898f3bc-748b-4550-98fd-8ae799dbca58"
      },
      "execution_count": null,
      "outputs": [
        {
          "output_type": "stream",
          "name": "stdout",
          "text": [
            "T-Statistic: 4.319946909530397\n",
            "P-Value: 1.6761321969419405e-05\n",
            "Terdapat bukti yang cukup untuk menolak H0\n"
          ]
        }
      ]
    },
    {
      "cell_type": "code",
      "source": [
        "# 3. Tagihan Kesehatan laki — laki lebih besar dari perempuan\n",
        "\n",
        "male_charges = data[data['sex'] == 'male']['charges']\n",
        "female_charges = data[data['sex'] == 'female']['charges']\n",
        "t_statistic, p_value = ttest_ind(male_charges, female_charges)\n",
        "\n",
        "# Tampilkan hasil uji t-test\n",
        "print(\"T-Statistic:\", t_statistic)\n",
        "print(\"P-Value:\", p_value)\n",
        "\n",
        "if p_value < 0.05:\n",
        "   print('Hipotesis nol diterima | hipotesis satu ditolak, Tagihan Kesehatan laki — laki lebih besar dari tagihan perempuan')\n",
        "else:\n",
        "    print('Hipotesis nol ditolak | hipotesis satu diterima, Tagihan Kesehatan laki - laki kurang dari atau sama dengan tagihan perempuan')\n",
        "\n"
      ],
      "metadata": {
        "colab": {
          "base_uri": "https://localhost:8080/"
        },
        "id": "XXfwoIOGqnhf",
        "outputId": "318378ae-3e17-49ec-ba81-180b778a56e3"
      },
      "execution_count": null,
      "outputs": [
        {
          "output_type": "stream",
          "name": "stdout",
          "text": [
            "T-Statistic: 2.097546590051688\n",
            "P-Value: 0.03613272100592976\n",
            "Hipotesis nol diterima | hipotesis satu ditolak, Tagihan Kesehatan laki — laki lebih besar dari perempuan\n"
          ]
        }
      ]
    }
  ]
}